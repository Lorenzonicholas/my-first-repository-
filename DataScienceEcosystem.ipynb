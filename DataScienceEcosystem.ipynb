{
 "cells": [
  {
   "cell_type": "markdown",
   "id": "57b88ba5-84c8-48f5-8921-fed72f58a325",
   "metadata": {},
   "source": [
    "# Data Science Tools and Ecosystem"
   ]
  },
  {
   "cell_type": "markdown",
   "id": "4eae2bb2-337d-4dc4-a4b3-77ed6948723f",
   "metadata": {},
   "source": [
    "## In this notebook, Data Science Tools and Ecosystem are summarized."
   ]
  },
  {
   "cell_type": "markdown",
   "id": "1506f443-014e-471c-a324-32005a654d71",
   "metadata": {},
   "source": [
    "__Objectives:__"
   ]
  },
  {
   "cell_type": "markdown",
   "id": "523b2289-e277-401b-8ae8-b18e0aea8021",
   "metadata": {},
   "source": [
    "* Create a Jupyter Notebook\n",
    "* Insert code and markdown cells\n",
    "* Share your notebook through GitHub\n",
    "* List popular languages that Data Scientists use\n",
    "* Commonly used libraries used by Data Scientists"
   ]
  },
  {
   "cell_type": "markdown",
   "id": "a657bbe9-f21e-47ca-ae26-25c38a88578d",
   "metadata": {},
   "source": [
    "### Some of the popular languages that Data Scientists use are"
   ]
  },
  {
   "cell_type": "markdown",
   "id": "91c7be9c-2eaf-4147-82cb-5cca01620a2a",
   "metadata": {},
   "source": [
    "1. Python\n",
    "2. Julia \n",
    "3. R\n",
    "4. Scala"
   ]
  },
  {
   "cell_type": "markdown",
   "id": "0e917c98-22d8-4993-b53b-898b3e05d3c8",
   "metadata": {},
   "source": [
    "### Some of the commonly used libraries used by Data Scientists include:"
   ]
  },
  {
   "cell_type": "markdown",
   "id": "86c2191f-74fe-4d83-840e-3bea820ef957",
   "metadata": {},
   "source": [
    "1. NumPy\n",
    "2. Pandas\n",
    "3. Seaborn\n",
    "4. TensorFlow"
   ]
  },
  {
   "cell_type": "markdown",
   "id": "714b15c3-a8cd-48bc-8854-93b72f9209e4",
   "metadata": {},
   "source": [
    "| Data Science Tools |\n",
    "| ------ |\n",
    "|  Jupyter Notebook |\n",
    "|  Apache Zeppelin |\n",
    "|  RStudio |"
   ]
  },
  {
   "cell_type": "markdown",
   "id": "2de52136-c7dd-4d13-a030-063ce22098b5",
   "metadata": {},
   "source": [
    "### Below are a few examples of evaluating arithmetic expressions in Python"
   ]
  },
  {
   "cell_type": "code",
   "execution_count": 1,
   "id": "8d4ff48a-211c-4c0d-a7dd-ba78e5e7cc05",
   "metadata": {},
   "outputs": [
    {
     "data": {
      "text/plain": [
       "20"
      ]
     },
     "execution_count": 1,
     "metadata": {},
     "output_type": "execute_result"
    }
   ],
   "source": [
    "45 * 56"
   ]
  },
  {
   "cell_type": "code",
   "execution_count": 2,
   "id": "58c021ee-5733-4707-a018-6582ef62b4c9",
   "metadata": {},
   "outputs": [
    {
     "data": {
      "text/plain": [
       "22"
      ]
     },
     "execution_count": 2,
     "metadata": {},
     "output_type": "execute_result"
    }
   ],
   "source": [
    "56 - 34"
   ]
  },
  {
   "cell_type": "code",
   "execution_count": 3,
   "id": "02497350-6cc4-4677-aeeb-018add76460e",
   "metadata": {},
   "outputs": [
    {
     "data": {
      "text/plain": [
       "20"
      ]
     },
     "execution_count": 3,
     "metadata": {},
     "output_type": "execute_result"
    }
   ],
   "source": [
    "25 - 5"
   ]
  },
  {
   "cell_type": "code",
   "execution_count": 5,
   "id": "1d9bff0c-2fec-4f6a-b1e9-e948a002d484",
   "metadata": {},
   "outputs": [
    {
     "data": {
      "text/plain": [
       "17"
      ]
     },
     "execution_count": 5,
     "metadata": {},
     "output_type": "execute_result"
    }
   ],
   "source": [
    "# This a simple arithmetic expression to multiply then add integers\n",
    "\n",
    "(3*4)+5"
   ]
  },
  {
   "cell_type": "code",
   "execution_count": null,
   "id": "9998f2ef-0922-43cd-bf59-697c429c87bd",
   "metadata": {},
   "outputs": [],
   "source": [
    "# This will convert 200 minutes to hours by diving by 60"
   ]
  },
  {
   "cell_type": "code",
   "execution_count": 6,
   "id": "4146dcc1-3a97-4a56-a47d-dd1ac00abbea",
   "metadata": {},
   "outputs": [
    {
     "data": {
      "text/plain": [
       "3.3333333333333335"
      ]
     },
     "execution_count": 6,
     "metadata": {},
     "output_type": "execute_result"
    }
   ],
   "source": [
    "200 / 60 "
   ]
  },
  {
   "cell_type": "markdown",
   "id": "1c3ae428-e581-4eb9-aafa-8f3dbc0b8db2",
   "metadata": {},
   "source": [
    "## Author\n",
    "Lorenzo Nicholas"
   ]
  },
  {
   "cell_type": "code",
   "execution_count": null,
   "id": "28e1fd45-d9ec-4400-8eda-1d04410176ae",
   "metadata": {},
   "outputs": [],
   "source": []
  },
  {
   "cell_type": "code",
   "execution_count": null,
   "id": "cd33ac94-65ff-4406-90d0-0f3af4936118",
   "metadata": {},
   "outputs": [],
   "source": []
  },
  {
   "cell_type": "code",
   "execution_count": null,
   "id": "aef92bc5-9e8c-4586-89a8-4f51bdeb46c6",
   "metadata": {},
   "outputs": [],
   "source": []
  },
  {
   "cell_type": "code",
   "execution_count": null,
   "id": "5e416644-8b7f-4565-b942-0f3caabb8384",
   "metadata": {},
   "outputs": [],
   "source": []
  },
  {
   "cell_type": "code",
   "execution_count": null,
   "id": "8a337d69-4498-4e0b-be32-c74ba18504e5",
   "metadata": {},
   "outputs": [],
   "source": []
  }
 ],
 "metadata": {
  "kernelspec": {
   "display_name": "Python 3 (ipykernel)",
   "language": "python",
   "name": "python3"
  },
  "language_info": {
   "codemirror_mode": {
    "name": "ipython",
    "version": 3
   },
   "file_extension": ".py",
   "mimetype": "text/x-python",
   "name": "python",
   "nbconvert_exporter": "python",
   "pygments_lexer": "ipython3",
   "version": "3.12.3"
  }
 },
 "nbformat": 4,
 "nbformat_minor": 5
}
