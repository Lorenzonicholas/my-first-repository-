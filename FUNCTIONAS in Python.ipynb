{
 "cells": [
  {
   "cell_type": "code",
   "execution_count": 1,
   "id": "0572b156-fae4-4b87-a11a-0fa5a96538db",
   "metadata": {},
   "outputs": [
    {
     "data": {
      "text/plain": [
       "26"
      ]
     },
     "execution_count": 1,
     "metadata": {},
     "output_type": "execute_result"
    }
   ],
   "source": [
    "# FUNCTIONAS in Python\n",
    "\n",
    "# A function is a reusable block of code which performs operations specified in the function.\n",
    "# They let you break down tasks and allow you to reuse your code in different programs.\n",
    "\n",
    "# There are two types of functions :\n",
    "\n",
    "#Pre-defined functions\n",
    "#User defined functions\n",
    "\n",
    "# You can define functions to provide the required functionality. Here are simple rules to define a function in Python:\n",
    "\n",
    "# Functions blocks begin def followed by the function name and parentheses ().\n",
    "# There are input parameters or arguments that should be placed within these parentheses.\n",
    "# You can also define parameters inside these parentheses.\n",
    "# There is a body within every function that starts with a colon (:) and is indented.\n",
    "# You can also place documentation before the body.\n",
    "# The statement return exits a function, optionally passing back a value.\n",
    "\n",
    "def add(a):\n",
    "    \"\"\"\n",
    "    the function adds 1 to a and returns the value\n",
    "\n",
    "    \"\"\"\n",
    "    b = a + 1\n",
    "\n",
    "    return b\n",
    "\n",
    "# my brother is 1 year older than me how old will he be when im 25\n",
    "\n",
    "add(25)\n"
   ]
  },
  {
   "cell_type": "code",
   "execution_count": 2,
   "id": "cbfae460-8e19-42da-a91f-f0a3a54ce770",
   "metadata": {},
   "outputs": [
    {
     "name": "stdout",
     "output_type": "stream",
     "text": [
      "99\n"
     ]
    }
   ],
   "source": [
    "# my brother is 1 year older than me how old will he be when im 98\n",
    "print(add(98))"
   ]
  },
  {
   "cell_type": "code",
   "execution_count": 11,
   "id": "967f1116-bcdf-4590-be94-080145ed0fad",
   "metadata": {},
   "outputs": [
    {
     "name": "stdout",
     "output_type": "stream",
     "text": [
      "Help on function add in module __main__:\n",
      "\n",
      "add(a)\n",
      "    the function adds 1 to a and returns the value\n",
      "\n"
     ]
    }
   ],
   "source": [
    "# Get a help on add function\n",
    "# The documentaion will be given by the help funtion \n",
    "\n",
    "help(add)"
   ]
  },
  {
   "cell_type": "code",
   "execution_count": 3,
   "id": "1d5627ee-604a-4747-9cb5-802f730fd89e",
   "metadata": {},
   "outputs": [
    {
     "name": "stdout",
     "output_type": "stream",
     "text": [
      "300000000\n"
     ]
    }
   ],
   "source": [
    "# funtion to convert dollars to rupees, d is for the number of dollars and the r is for the \n",
    "\n",
    "def dollertorupee(d,r):\n",
    "    m = d * r\n",
    "    return m\n",
    "\n",
    "print(dollertorupee(1000000,300)) "
   ]
  },
  {
   "cell_type": "code",
   "execution_count": 26,
   "id": "9bacceeb-6137-424b-a763-115a97186334",
   "metadata": {},
   "outputs": [
    {
     "name": "stdout",
     "output_type": "stream",
     "text": [
      "3 if you square + 1 10\n",
      "10\n"
     ]
    }
   ],
   "source": [
    "# Variables\n",
    "\n",
    "# A variable that is declared inside a function is called a local variable. \n",
    "# The parameter only exists within the function (i.e. the point where the function starts and stops).\n",
    "# A variable that is declared outside a function definition is a global variable, and its value is accessible and modifiable throughout the program.\n",
    "# We will discuss more about global variables at the end of the lab.\n",
    "\n",
    "# Initializes Global variable \n",
    "\n",
    "x = 3\n",
    "\n",
    "def square(a):\n",
    "    \n",
    "    # Local variable b\n",
    "    b = 1\n",
    "    c = a * a + b\n",
    "    print(a, \"if you square + 1\", c) \n",
    "    return(c)\n",
    "\n",
    "# Makes function call and return y\n",
    "y = square(x)\n",
    "print(y)"
   ]
  },
  {
   "cell_type": "code",
   "execution_count": 27,
   "id": "7365074c-a99a-4230-8e0c-f1cfc15d3f82",
   "metadata": {},
   "outputs": [
    {
     "name": "stdout",
     "output_type": "stream",
     "text": [
      "[10.0, 8.5, 9.5, 7.0, 7.0, 9.5, 9.0, 9.5]\n"
     ]
    }
   ],
   "source": [
    "# Pre-defined functions\n",
    "\n",
    "# Build-in function print() \n",
    "\n",
    "album_ratings = [10.0, 8.5, 9.5, 7.0, 7.0, 9.5, 9.0, 9.5] \n",
    "print(album_ratings)\n"
   ]
  },
  {
   "cell_type": "code",
   "execution_count": 28,
   "id": "35970434-b7f8-48c4-946b-e65c6f78838d",
   "metadata": {},
   "outputs": [
    {
     "data": {
      "text/plain": [
       "70.0"
      ]
     },
     "execution_count": 28,
     "metadata": {},
     "output_type": "execute_result"
    }
   ],
   "source": [
    "# Use sum() to add every element in a list or tuple together\n",
    "\n",
    "sum(album_ratings)"
   ]
  },
  {
   "cell_type": "code",
   "execution_count": 29,
   "id": "bb037d0d-2e47-4559-8339-24787ebe4ace",
   "metadata": {},
   "outputs": [
    {
     "data": {
      "text/plain": [
       "8"
      ]
     },
     "execution_count": 29,
     "metadata": {},
     "output_type": "execute_result"
    }
   ],
   "source": [
    "# Show the length of the list or tuple\n",
    "\n",
    "len(album_ratings)"
   ]
  },
  {
   "cell_type": "code",
   "execution_count": 30,
   "id": "8d58a784-55d9-4876-9c85-fe74dc41f053",
   "metadata": {},
   "outputs": [
    {
     "name": "stdout",
     "output_type": "stream",
     "text": [
      "Michael Jackson Thriller 1980\n",
      "Oldie\n"
     ]
    }
   ],
   "source": [
    "# Function with IF ELSE statements example\n",
    "\n",
    "def type_of_album(artist, album, year_released):\n",
    "    \n",
    "    print(artist, album, year_released)\n",
    "    if year_released > 1980:\n",
    "        return \"Modern\"\n",
    "    else:\n",
    "        return \"Oldie\"\n",
    "    \n",
    "x = type_of_album(\"Michael Jackson\", \"Thriller\", 1980)\n",
    "print(x)"
   ]
  },
  {
   "cell_type": "code",
   "execution_count": 33,
   "id": "1956cc27-426b-4a36-9c5c-7b73f97eeadc",
   "metadata": {},
   "outputs": [
    {
     "name": "stdout",
     "output_type": "stream",
     "text": [
      "1\n",
      "1\n",
      "the man\n",
      "abc\n"
     ]
    }
   ],
   "source": [
    "# We can use a loop in a function\n",
    "\n",
    "def PrintList(list1):\n",
    "    for element in list1:\n",
    "        print(element)\n",
    "\n",
    "List = (['1', 1, 'the man', \"abc\"])\n",
    "\n",
    "PrintList(List)"
   ]
  },
  {
   "cell_type": "code",
   "execution_count": 1,
   "id": "f188b868-6f85-4a14-9588-64cdbea5b47d",
   "metadata": {},
   "outputs": [
    {
     "name": "stdout",
     "output_type": "stream",
     "text": [
      "this album sucks it's rating is 4\n",
      "this album is good its rating is 10\n"
     ]
    }
   ],
   "source": [
    "# Test the value with default value and with input\n",
    "\n",
    "def isGoodRating(rating=4): \n",
    "    if(rating < 7):\n",
    "        print(\"this album sucks it's rating is\",rating)\n",
    "        \n",
    "    else:\n",
    "        print(\"this album is good its rating is\",rating)\n",
    "isGoodRating()\n",
    "isGoodRating(10)"
   ]
  },
  {
   "cell_type": "code",
   "execution_count": 2,
   "id": "647c1e93-af2f-40de-a8ff-23801e207cfb",
   "metadata": {},
   "outputs": [
    {
     "name": "stdout",
     "output_type": "stream",
     "text": [
      "No of arguments: 3\n",
      "Horsefeather\n",
      "Adonis\n",
      "Bone\n",
      "No of arguments: 4\n",
      "Sidecar\n",
      "Long Island\n",
      "Mudslide\n",
      "Carriage\n"
     ]
    }
   ],
   "source": [
    "# When the number of arguments are unknown for a function, They can all be packed into a tuple as shown:\n",
    "\n",
    "def printAll(*args): # All the arguments are 'packed' into args which can be treated like a tuple\n",
    "    print(\"No of arguments:\", len(args)) \n",
    "    for argument in args:\n",
    "        print(argument)\n",
    "#printAll with 3 arguments\n",
    "printAll('Horsefeather','Adonis','Bone')\n",
    "#printAll with 4 arguments\n",
    "printAll('Sidecar','Long Island','Mudslide','Carriage')"
   ]
  },
  {
   "cell_type": "code",
   "execution_count": 3,
   "id": "af57e70f-ade0-4649-a468-18f29b839b65",
   "metadata": {},
   "outputs": [
    {
     "name": "stdout",
     "output_type": "stream",
     "text": [
      "Country : Canada\n",
      "Province : Ontario\n",
      "City : Toronto\n"
     ]
    }
   ],
   "source": [
    "# Similarly, The arguments can also be packed into a dictionary as shown:\n",
    "\n",
    "def printDictionary(**args):\n",
    "    for key in args:\n",
    "        print(key + \" : \" + args[key])\n",
    "\n",
    "printDictionary(Country='Canada',Province='Ontario',City='Toronto')\n"
   ]
  },
  {
   "cell_type": "code",
   "execution_count": 5,
   "id": "d42c4638-7a96-47b6-90b3-225dead167d7",
   "metadata": {},
   "outputs": [
    {
     "data": {
      "text/plain": [
       "['One', 'Two', 'Three', 'Four']"
      ]
     },
     "execution_count": 5,
     "metadata": {},
     "output_type": "execute_result"
    }
   ],
   "source": [
    "def addItems(list):\n",
    "    list.append(\"Three\")\n",
    "    list.append(\"Four\")\n",
    "\n",
    "myList = [\"One\",\"Two\"]\n",
    "\n",
    "addItems(myList)\n",
    "\n",
    "myList\n",
    "    "
   ]
  },
  {
   "cell_type": "code",
   "execution_count": 4,
   "id": "2cc9f7a2-a805-4c7e-91d8-5d1fca596594",
   "metadata": {},
   "outputs": [
    {
     "name": "stdout",
     "output_type": "stream",
     "text": [
      "5\n"
     ]
    }
   ],
   "source": [
    "# Write a function code to find total count of word little in the given string:\n",
    "\n",
    "string = \"Mary had a little lamb Little lamb, little lamb Mary had a little lamb.Its fleece was white as snow And everywhere that Mary went Mary went, Mary went Everywhere that Mary went The little lamb was sure to go\"\n",
    "list1 = string.split()\n",
    "\n",
    "len(list1)\n",
    "word = 'little'\n",
    "\n",
    "count = 0\n",
    "i = 0\n",
    "\n",
    "while i < len(list1):\n",
    "    if list1[i].lower() == word:\n",
    "        count = count + 1\n",
    "    i += 1\n",
    "    \n",
    "print(count) "
   ]
  },
  {
   "cell_type": "code",
   "execution_count": null,
   "id": "42145ba7-36a1-4994-9e1a-3b44e68d6d6d",
   "metadata": {},
   "outputs": [],
   "source": []
  },
  {
   "cell_type": "code",
   "execution_count": null,
   "id": "15f5473a-b5e3-411d-80fd-0baa11b3fb9b",
   "metadata": {},
   "outputs": [],
   "source": []
  },
  {
   "cell_type": "code",
   "execution_count": null,
   "id": "1eb349af-4c23-47c6-b419-2cf9e53ce30e",
   "metadata": {},
   "outputs": [],
   "source": []
  }
 ],
 "metadata": {
  "kernelspec": {
   "display_name": "Python 3 (ipykernel)",
   "language": "python",
   "name": "python3"
  },
  "language_info": {
   "codemirror_mode": {
    "name": "ipython",
    "version": 3
   },
   "file_extension": ".py",
   "mimetype": "text/x-python",
   "name": "python",
   "nbconvert_exporter": "python",
   "pygments_lexer": "ipython3",
   "version": "3.12.3"
  }
 },
 "nbformat": 4,
 "nbformat_minor": 5
}
